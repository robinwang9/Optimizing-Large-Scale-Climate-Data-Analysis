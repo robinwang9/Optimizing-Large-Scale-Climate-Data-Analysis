{
 "cells": [
  {
   "cell_type": "markdown",
   "id": "functioning-country",
   "metadata": {},
   "source": [
    "# GHCN Analysis"
   ]
  },
  {
   "cell_type": "code",
   "execution_count": null,
   "id": "wired-victor",
   "metadata": {},
   "outputs": [],
   "source": [
    "import os\n",
    "from glob import glob\n",
    "\n",
    "import dask\n",
    "import dask.bag as db\n",
    "import dask.dataframe as dd\n",
    "\n",
    "import pandas as pd\n",
    "\n",
    "from distributed import Client\n",
    "from dask_jobqueue import SLURMCluster\n",
    "\n",
    "from IPython.display import display\n",
    "import matplotlib.pyplot as plt\n",
    "\n",
    "from ghcn import load_daily"
   ]
  },
  {
   "cell_type": "code",
   "execution_count": null,
   "id": "frequent-trial",
   "metadata": {},
   "outputs": [],
   "source": [
    "# Set LOCAL to True for single-machine execution while developing\n",
    "# Set LOCAL to False for cluster execution\n",
    "LOCAL = True\n",
    "\n",
    "if LOCAL:\n",
    "    # This line creates a single-machine dask client\n",
    "    client = Client()\n",
    "else:    \n",
    "    # This line creates a SLURM cluster dask and dask client\n",
    "    # Logging outputs will be stored in /scratch/{your-netid}\n",
    "    \n",
    "    cluster = SLURMCluster(\n",
    "                           # Memory and core limits should be sufficient here\n",
    "                           memory='4GB', cores=2,\n",
    "\n",
    "                           # Ensure that Dask uses the correct version of Python on the cluster\n",
    "                           python='/scratch/work/public/dask/{}/bin/python'.format(dask.__version__),                           \n",
    "                           \n",
    "                           # Place the output logs in an accessible location\n",
    "                           job_extra=['--output=/scratch/{}/slurm-%j.out'.format(os.environ['SLURM_JOB_USER'])]\n",
    "    )\n",
    "\n",
    "    cluster.submit_command = 'slurm'\n",
    "    cluster.scale(50)\n",
    "\n",
    "    display(cluster)\n",
    "    client = Client(cluster)\n",
    "\n",
    "display(client)"
   ]
  },
  {
   "cell_type": "code",
   "execution_count": null,
   "id": "funded-pharmaceutical",
   "metadata": {},
   "outputs": [],
   "source": [
    "# Get a list of all input files\n",
    "# We'll sort them alphabetically to ensure reproducibility\n",
    "\n",
    "files = sorted(glob('/scratch/work/courses/DSGA1004-2021/ghcnd_tiny/*.dly'))\n",
    "#files = sorted(glob('/scratch/work/courses/DSGA1004-2021/ghcnd_small/*.dly'))\n",
    "#files = sorted(glob('/scratch/work/courses/DSGA1004-2021/ghcnd_all/*.dly'))\n",
    "\n",
    "# Load in a single file to demonstrate the parser\n",
    "# Just print out the first few records to illustrate the structure\n",
    "load_daily(files[0])[:3]"
   ]
  },
  {
   "cell_type": "code",
   "execution_count": null,
   "id": "difficult-sharp",
   "metadata": {},
   "outputs": [],
   "source": [
    "# Load daily files into bags\n",
    "# ..."
   ]
  },
  {
   "cell_type": "code",
   "execution_count": null,
   "id": "fleet-orbit",
   "metadata": {},
   "outputs": [],
   "source": [
    "# Compute aggregated statistics\n",
    "# ..."
   ]
  },
  {
   "cell_type": "code",
   "execution_count": null,
   "id": "smaller-secretary",
   "metadata": {},
   "outputs": [],
   "source": [
    "# Plot the results\n",
    "# ..."
   ]
  }
 ],
 "metadata": {
  "kernelspec": {
   "display_name": "Python 3.7",
   "language": "python",
   "name": "py37"
  },
  "language_info": {
   "codemirror_mode": {
    "name": "ipython",
    "version": 3
   },
   "file_extension": ".py",
   "mimetype": "text/x-python",
   "name": "python",
   "nbconvert_exporter": "python",
   "pygments_lexer": "ipython3",
   "version": "3.7.6"
  }
 },
 "nbformat": 4,
 "nbformat_minor": 5
}
